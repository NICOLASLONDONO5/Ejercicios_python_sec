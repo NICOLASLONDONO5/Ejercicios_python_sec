{
  "nbformat": 4,
  "nbformat_minor": 0,
  "metadata": {
    "colab": {
      "provenance": [],
      "authorship_tag": "ABX9TyO6kjb4t1yDnzu2WkPUTi95",
      "include_colab_link": true
    },
    "kernelspec": {
      "name": "python3",
      "display_name": "Python 3"
    },
    "language_info": {
      "name": "python"
    }
  },
  "cells": [
    {
      "cell_type": "markdown",
      "metadata": {
        "id": "view-in-github",
        "colab_type": "text"
      },
      "source": [
        "<a href=\"https://colab.research.google.com/github/NICOLASLONDONO5/Ejercicios_python_sec/blob/main/Untitled11.ipynb\" target=\"_parent\"><img src=\"https://colab.research.google.com/assets/colab-badge.svg\" alt=\"Open In Colab\"/></a>"
      ]
    },
    {
      "cell_type": "markdown",
      "source": [
        "Taller 5 (Ciclos en Python)\n",
        "Nicolas londoño calle- 000501355\n",
        "Angel bolaño chica-\n",
        "\n"
      ],
      "metadata": {
        "id": "QfsnKpF7ILgI"
      }
    },
    {
      "cell_type": "code",
      "execution_count": 1,
      "metadata": {
        "colab": {
          "base_uri": "https://localhost:8080/"
        },
        "id": "InVnxAUWIKr-",
        "outputId": "154f3702-11b4-4f09-9c6a-bab76fed7f3b"
      },
      "outputs": [
        {
          "output_type": "stream",
          "name": "stdout",
          "text": [
            "Ingrese un número entero positivo: 4\n",
            "1\n",
            "2\n",
            "3\n",
            "4\n"
          ]
        }
      ],
      "source": [
        "\n",
        "numero = int(input(\"Ingrese un número entero positivo: \"))\n",
        "\n",
        "\n",
        "if numero <= 0:\n",
        "    print(\"Por favor, ingrese un número entero positivo.\")\n",
        "else:\n",
        "\n",
        "    contador = 1\n",
        "\n",
        "\n",
        "    while contador <= numero:\n",
        "        print(contador)\n",
        "        contador += 1\n"
      ]
    },
    {
      "cell_type": "code",
      "source": [
        "\n",
        "suma = 0\n",
        "\n",
        "\n",
        "for numero in range(1, 101):\n",
        "\n",
        "    if numero % 2 == 0:\n",
        "        suma += numero\n",
        "\n",
        "\n",
        "print(\"La suma de los números pares del 1 al 100 es:\", suma)\n"
      ],
      "metadata": {
        "colab": {
          "base_uri": "https://localhost:8080/"
        },
        "id": "w19872lZIy0h",
        "outputId": "89b14a76-45bb-4296-d100-5d6f63e15133"
      },
      "execution_count": 2,
      "outputs": [
        {
          "output_type": "stream",
          "name": "stdout",
          "text": [
            "La suma de los números pares del 1 al 100 es: 2550\n"
          ]
        }
      ]
    },
    {
      "cell_type": "code",
      "source": [
        "\n",
        "num_filas = int(input(\"Ingrese el número de filas: \"))\n",
        "\n",
        "\n",
        "for i in range(1, num_filas + 1):\n",
        "\n",
        "    for j in range(1, i + 1):\n",
        "        print(j, end=\"\")\n",
        "\n",
        "    print()\n"
      ],
      "metadata": {
        "colab": {
          "base_uri": "https://localhost:8080/"
        },
        "id": "J2_pjs0bJNSl",
        "outputId": "18c9b30b-b0bc-4f1e-d783-7310caea3ad8"
      },
      "execution_count": 3,
      "outputs": [
        {
          "output_type": "stream",
          "name": "stdout",
          "text": [
            "Ingrese el número de filas: 4\n",
            "1\n",
            "12\n",
            "123\n",
            "1234\n"
          ]
        }
      ]
    },
    {
      "cell_type": "code",
      "source": [
        "\n",
        "numero = int(input(\"Ingrese un número entero positivo: \"))\n",
        "\n",
        "\n",
        "if numero <= 1:\n",
        "    print(\"Por favor, ingrese un número entero positivo mayor que 1.\")\n",
        "else:\n",
        "\n",
        "    divisor = 2\n",
        "\n",
        "\n",
        "    es_primo = True\n",
        "\n",
        "    while divisor <= numero // 2:\n",
        "        if numero % divisor == 0:\n",
        "\n",
        "            es_primo = False\n",
        "            break\n",
        "        divisor += 1\n",
        "\n",
        "\n",
        "    if es_primo:\n",
        "        print(numero, \"es un número primo.\")\n",
        "    else:\n",
        "        print(numero, \"no es un número primo.\")\n"
      ],
      "metadata": {
        "colab": {
          "base_uri": "https://localhost:8080/"
        },
        "id": "pMAGMYtxJSqG",
        "outputId": "0b27c131-22e3-4cd3-eba0-4a4c740fbfe5"
      },
      "execution_count": 4,
      "outputs": [
        {
          "output_type": "stream",
          "name": "stdout",
          "text": [
            "Ingrese un número entero positivo: 4\n",
            "4 no es un número primo.\n"
          ]
        }
      ]
    },
    {
      "cell_type": "code",
      "source": [
        "\n",
        "def suma(a, b):\n",
        "    return a + b\n",
        "\n",
        "def resta(a, b):\n",
        "    return a - b\n",
        "\n",
        "def multiplicacion(a, b):\n",
        "    return a * b\n",
        "\n",
        "\n",
        "def division(a, b):\n",
        "    if b == 0:\n",
        "        return \"Error: No se puede dividir por cero.\"\n",
        "    return a / b\n",
        "\n",
        "\n",
        "while True:\n",
        "\n",
        "    operacion = input(\"Ingrese una operación (suma, resta, multiplicacion, division) o 'salir' para terminar: \")\n",
        "\n",
        "\n",
        "    if operacion.lower() == \"salir\":\n",
        "        break\n",
        "\n",
        "\n",
        "    try:\n",
        "        num1 = float(input(\"Ingrese el primer número: \"))\n",
        "        num2 = float(input(\"Ingrese el segundo número: \"))\n",
        "    except ValueError:\n",
        "        print(\"Por favor, ingrese números válidos.\")\n",
        "        continue\n",
        "\n",
        "\n",
        "    if operacion.lower() == \"suma\":\n",
        "        resultado = suma(num1, num2)\n",
        "    elif operacion.lower() == \"resta\":\n",
        "        resultado = resta(num1, num2)\n",
        "    elif operacion.lower() == \"multiplicacion\":\n",
        "        resultado = multiplicacion(num1, num2)\n",
        "    elif operacion.lower() == \"division\":\n",
        "        resultado = division(num1, num2)\n",
        "    else:\n",
        "        print(\"Operación no válida.\")\n",
        "        continue\n",
        "\n",
        "\n",
        "    print(\"Resultado:\", resultado)\n"
      ],
      "metadata": {
        "colab": {
          "base_uri": "https://localhost:8080/"
        },
        "id": "gBMOsnCrJv51",
        "outputId": "f24ad247-d35f-456c-bcd2-a667ee2c106b"
      },
      "execution_count": 6,
      "outputs": [
        {
          "name": "stdout",
          "output_type": "stream",
          "text": [
            "Ingrese una operación (suma, resta, multiplicacion, division) o 'salir' para terminar: -\n",
            "Ingrese el primer número: 3\n",
            "Ingrese el segundo número: 1\n",
            "Operación no válida.\n",
            "Ingrese una operación (suma, resta, multiplicacion, division) o 'salir' para terminar: salir\n"
          ]
        }
      ]
    },
    {
      "cell_type": "code",
      "source": [
        "\n",
        "numero = int(input(\"Ingrese un número entero positivo: \"))\n",
        "\n",
        "\n",
        "if numero <= 0:\n",
        "    print(\"Por favor, ingrese un número entero positivo.\")\n",
        "else:\n",
        "\n",
        "    for i in range(numero, 0, -1):\n",
        "        print(i)\n"
      ],
      "metadata": {
        "colab": {
          "base_uri": "https://localhost:8080/"
        },
        "id": "pg-xcR5TLYqO",
        "outputId": "9d3889a0-9fb0-45b3-e662-79eb80e515bb"
      },
      "execution_count": 7,
      "outputs": [
        {
          "output_type": "stream",
          "name": "stdout",
          "text": [
            "Ingrese un número entero positivo: 4\n",
            "4\n",
            "3\n",
            "2\n",
            "1\n"
          ]
        }
      ]
    },
    {
      "cell_type": "code",
      "source": [
        "\n",
        "n = int(input(\"Ingrese un valor para n: \"))\n",
        "\n",
        "\n",
        "if n <= 0:\n",
        "    print(\"Por favor, ingrese un número entero positivo.\")\n",
        "else:\n",
        "\n",
        "    a, b = 0, 1\n",
        "\n",
        "    print(a, end=\", \")\n",
        "\n",
        "    while b <= n:\n",
        "        print(b, end=\", \")\n",
        "        a, b = b, a + b\n",
        "    print()\n"
      ],
      "metadata": {
        "colab": {
          "base_uri": "https://localhost:8080/"
        },
        "id": "JzWINqXOLuWq",
        "outputId": "c8a8df60-16c5-43b9-b817-2b71ca8ab0ae"
      },
      "execution_count": 8,
      "outputs": [
        {
          "output_type": "stream",
          "name": "stdout",
          "text": [
            "Ingrese un valor para n: 4\n",
            "0, 1, 1, 2, 3, \n"
          ]
        }
      ]
    },
    {
      "cell_type": "code",
      "source": [
        "\n",
        "numero = int(input(\"Ingrese un número entero positivo: \"))\n",
        "\n",
        "\n",
        "if numero <= 0:\n",
        "    print(\"Por favor, ingrese un número entero positivo.\")\n",
        "else:\n",
        "\n",
        "    suma_digitos = 0\n",
        "\n",
        "\n",
        "    while numero > 0:\n",
        "\n",
        "        digito = numero % 10\n",
        "\n",
        "\n",
        "        suma_digitos += digito\n",
        "\n",
        "\n",
        "        numero //= 10\n",
        "\n",
        "\n",
        "    print(\"La suma de los dígitos es:\", suma_digitos)\n"
      ],
      "metadata": {
        "colab": {
          "base_uri": "https://localhost:8080/"
        },
        "id": "O_scwcmCMicm",
        "outputId": "11e6d30e-74ae-4943-fbec-c203971c00bb"
      },
      "execution_count": 9,
      "outputs": [
        {
          "output_type": "stream",
          "name": "stdout",
          "text": [
            "Ingrese un número entero positivo: 6\n",
            "La suma de los dígitos es: 6\n"
          ]
        }
      ]
    }
  ]
}